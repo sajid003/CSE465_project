{
  "nbformat": 4,
  "nbformat_minor": 0,
  "metadata": {
    "colab": {
      "provenance": []
    },
    "kernelspec": {
      "name": "python3",
      "display_name": "Python 3"
    },
    "language_info": {
      "name": "python"
    }
  },
  "cells": [
    {
      "cell_type": "markdown",
      "source": [
        "# Imports\n"
      ],
      "metadata": {
        "id": "Ia3SX5dN-LyA"
      }
    },
    {
      "cell_type": "code",
      "execution_count": null,
      "metadata": {
        "id": "ngMXAEXF9ExL"
      },
      "outputs": [],
      "source": [
        "\n",
        "import os\n",
        "import torch\n",
        "import torch.nn as nn\n",
        "from torch.utils.data import Dataset, DataLoader, random_split\n",
        "from torchvision import transforms\n",
        "from PIL import Image\n",
        "from tqdm import tqdm\n",
        "import matplotlib.pyplot as plt\n",
        "import torch\n",
        "\n",
        "# Choose GPU if available, else CPU\n",
        "device = torch.device(\"cuda\" if torch.cuda.is_available() else \"cpu\")\n",
        "print(\"Using device:\", device)\n"
      ]
    },
    {
      "cell_type": "markdown",
      "source": [
        "# Dataset loading"
      ],
      "metadata": {
        "id": "IQ1Fx6xe-P0D"
      }
    },
    {
      "cell_type": "code",
      "source": [
        "\n",
        "class BrainTumorDataset(Dataset):\n",
        "    def __init__(self, image_dir, mask_dir, transform=None):\n",
        "        self.image_dir = image_dir\n",
        "        self.mask_dir = mask_dir\n",
        "        self.images = sorted(os.listdir(image_dir))\n",
        "        self.masks = sorted(os.listdir(mask_dir))\n",
        "        self.transform = transform\n",
        "\n",
        "    def __len__(self):\n",
        "        return len(self.images)\n",
        "\n",
        "    def __getitem__(self, idx):\n",
        "        img_path = os.path.join(self.image_dir, self.images[idx])\n",
        "        mask_path = os.path.join(self.mask_dir, self.masks[idx])\n",
        "\n",
        "        # Load grayscale image and mask\n",
        "        image = Image.open(img_path).convert(\"L\")\n",
        "        mask = Image.open(mask_path).convert(\"L\")\n",
        "\n",
        "        if self.transform:\n",
        "            image = self.transform(image)\n",
        "            mask = self.transform(mask)\n",
        "\n",
        "        mask = torch.where(mask > 0, 1.0, 0.0)\n",
        "        return image, mask\n",
        "\n"
      ],
      "metadata": {
        "id": "1x7eNGKc9R0F"
      },
      "execution_count": null,
      "outputs": []
    },
    {
      "cell_type": "code",
      "source": [
        "# 4. Transforms\n",
        "# -----------------------------\n",
        "transform = transforms.Compose([\n",
        "    transforms.ToTensor(),  # This will create 1-channel tensor\n",
        "])\n"
      ],
      "metadata": {
        "id": "xqBq5MAy9VG2"
      },
      "execution_count": null,
      "outputs": []
    },
    {
      "cell_type": "markdown",
      "source": [
        "# Data loader"
      ],
      "metadata": {
        "id": "PHQXeSmq-a0p"
      }
    },
    {
      "cell_type": "code",
      "source": [
        "\n",
        "# Change the train images and masks\n",
        "train_images = \"\"\n",
        "train_masks  = \"\"\n",
        "\n",
        "full_dataset = BrainTumorDataset(train_images, train_masks, transform=transform)\n",
        "\n",
        "# Split: 80% train, 20% validation\n",
        "train_size = int(0.8 * len(full_dataset))\n",
        "val_size = len(full_dataset) - train_size\n",
        "train_dataset, val_dataset = random_split(full_dataset, [train_size, val_size])\n",
        "\n",
        "train_loader = DataLoader(train_dataset, batch_size=8, shuffle=True)\n",
        "val_loader = DataLoader(val_dataset, batch_size=8, shuffle=False)\n",
        "\n",
        "print(f\"Train samples: {len(train_dataset)}, Validation samples: {len(val_dataset)}\")"
      ],
      "metadata": {
        "id": "Vv99SK_t9hqI"
      },
      "execution_count": null,
      "outputs": []
    },
    {
      "cell_type": "markdown",
      "source": [
        "# UNet++ architecture"
      ],
      "metadata": {
        "id": "wq0Kq28n-jds"
      }
    },
    {
      "cell_type": "code",
      "source": [
        "# 5. U-Net++ Model (simplified)\n",
        "# -----------------------------\n",
        "import torch.nn as nn\n",
        "\n",
        "class ConvBlock(nn.Module):\n",
        "    def __init__(self, in_ch, out_ch):\n",
        "        super().__init__()\n",
        "        self.conv = nn.Sequential(\n",
        "            nn.Conv2d(in_ch, out_ch, 3, padding=1),\n",
        "            nn.BatchNorm2d(out_ch),\n",
        "            nn.ReLU(inplace=True),\n",
        "            nn.Conv2d(out_ch, out_ch, 3, padding=1),\n",
        "            nn.BatchNorm2d(out_ch),\n",
        "            nn.ReLU(inplace=True)\n",
        "        )\n",
        "    def forward(self, x):\n",
        "        return self.conv(x)\n",
        "\n",
        "class UNetPlusPlus(nn.Module):\n",
        "    def __init__(self, in_ch=1, out_ch=1):\n",
        "        super().__init__()\n",
        "        filters = [64, 128, 256, 512]\n",
        "\n",
        "        # Encoder\n",
        "        self.conv0_0 = ConvBlock(in_ch, filters[0])\n",
        "        self.pool0 = nn.MaxPool2d(2)\n",
        "        self.conv1_0 = ConvBlock(filters[0], filters[1])\n",
        "        self.pool1 = nn.MaxPool2d(2)\n",
        "        self.conv2_0 = ConvBlock(filters[1], filters[2])\n",
        "        self.pool2 = nn.MaxPool2d(2)\n",
        "        self.conv3_0 = ConvBlock(filters[2], filters[3])\n",
        "\n",
        "        # Decoder with nested connections\n",
        "        self.up2_1 = nn.ConvTranspose2d(filters[3], filters[2], 2, stride=2)\n",
        "        self.conv2_1 = ConvBlock(filters[2]*2, filters[2])\n",
        "\n",
        "        self.up1_2 = nn.ConvTranspose2d(filters[2], filters[1], 2, stride=2)\n",
        "        self.conv1_2 = ConvBlock(filters[1]*2, filters[1])\n",
        "\n",
        "        self.up0_3 = nn.ConvTranspose2d(filters[1], filters[0], 2, stride=2)\n",
        "        self.conv0_3 = ConvBlock(filters[0]*2, filters[0])\n",
        "\n",
        "        # Final output\n",
        "        self.final = nn.Conv2d(filters[0], out_ch, 1)\n",
        "\n",
        "    def forward(self, x):\n",
        "        # Encoder\n",
        "        x0_0 = self.conv0_0(x)\n",
        "        x1_0 = self.conv1_0(self.pool0(x0_0))\n",
        "        x2_0 = self.conv2_0(self.pool1(x1_0))\n",
        "        x3_0 = self.conv3_0(self.pool2(x2_0))\n",
        "\n",
        "        # Decoder\n",
        "        x2_1 = self.conv2_1(torch.cat([x2_0, self.up2_1(x3_0)], dim=1))\n",
        "        x1_2 = self.conv1_2(torch.cat([x1_0, self.up1_2(x2_1)], dim=1))\n",
        "        x0_3 = self.conv0_3(torch.cat([x0_0, self.up0_3(x1_2)], dim=1))\n",
        "\n",
        "        out = torch.sigmoid(self.final(x0_3))\n",
        "        return out\n",
        "\n",
        "model = UNetPlusPlus().to(device)"
      ],
      "metadata": {
        "id": "74eJY5CR9jsD"
      },
      "execution_count": null,
      "outputs": []
    },
    {
      "cell_type": "markdown",
      "source": [
        "# Loss and optimizer"
      ],
      "metadata": {
        "id": "OPurZYHo-pMN"
      }
    },
    {
      "cell_type": "code",
      "source": [
        "\n",
        "def dice_loss(pred, target, smooth=1.):\n",
        "    pred = pred.contiguous()\n",
        "    target = target.contiguous()\n",
        "    intersection = (pred * target).sum(dim=2).sum(dim=2)\n",
        "    loss = 1 - ((2. * intersection + smooth) /\n",
        "                (pred.sum(dim=2).sum(dim=2) + target.sum(dim=2).sum(dim=2) + smooth))\n",
        "    return loss.mean()\n",
        "\n",
        "optimizer = torch.optim.Adam(model.parameters(), lr= 3e-4)"
      ],
      "metadata": {
        "id": "8snjQNg99ry-"
      },
      "execution_count": null,
      "outputs": []
    },
    {
      "cell_type": "markdown",
      "source": [
        "# Training loop"
      ],
      "metadata": {
        "id": "TwYLEZP6-sa-"
      }
    },
    {
      "cell_type": "code",
      "source": [
        "\n",
        "num_epochs = 20\n",
        "best_val_loss = float('inf')\n",
        "\n",
        "for epoch in range(num_epochs):\n",
        "    model.train()\n",
        "    train_loss = 0\n",
        "    for images, masks in tqdm(train_loader):\n",
        "        images, masks = images.to(device), masks.to(device)\n",
        "        preds = model(images)\n",
        "        loss = dice_loss(preds, masks)\n",
        "\n",
        "        optimizer.zero_grad()\n",
        "        loss.backward()\n",
        "        optimizer.step()\n",
        "        train_loss += loss.item()\n",
        "\n",
        "    train_loss /= len(train_loader)\n",
        "\n",
        "    # Validation\n",
        "    model.eval()\n",
        "    val_loss = 0\n",
        "    with torch.no_grad():\n",
        "        for images, masks in val_loader:\n",
        "            images, masks = images.to(device), masks.to(device)\n",
        "            preds = model(images)\n",
        "            loss = dice_loss(preds, masks)\n",
        "            val_loss += loss.item()\n",
        "    val_loss /= len(val_loader)\n",
        "\n",
        "    print(f\"Epoch [{epoch+1}/{num_epochs}] Train Loss: {train_loss:.4f} | Val Loss: {val_loss:.4f}\")\n",
        "\n",
        "    # Save best model\n",
        "    if val_loss < best_val_loss:\n",
        "        best_val_loss = val_loss\n",
        "        torch.save(model.state_dict(), \"./best_unetpp.pth\")"
      ],
      "metadata": {
        "id": "WWSI7yux9t9_"
      },
      "execution_count": null,
      "outputs": []
    }
  ]
}