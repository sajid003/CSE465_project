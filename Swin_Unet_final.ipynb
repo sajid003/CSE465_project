{
  "nbformat": 4,
  "nbformat_minor": 0,
  "metadata": {
    "colab": {
      "provenance": []
    },
    "kernelspec": {
      "name": "python3",
      "display_name": "Python 3"
    },
    "language_info": {
      "name": "python"
    }
  },
  "cells": [
    {
      "cell_type": "markdown",
      "source": [
        "# Imports\n"
      ],
      "metadata": {
        "id": "Ia3SX5dN-LyA"
      }
    },
    {
      "cell_type": "code",
      "source": [
        "#Step 2: Imports\n",
        "import torch\n",
        "import torch.nn as nn\n",
        "from torch.utils.data import DataLoader, random_split\n",
        "import torchvision.transforms as transforms\n",
        "from tqdm import tqdm\n",
        "import segmentation_models_pytorch as smp\n"
      ],
      "metadata": {
        "id": "2GBsmj-FvaN3"
      },
      "execution_count": null,
      "outputs": []
    },
    {
      "cell_type": "markdown",
      "source": [
        "# Dataset loading"
      ],
      "metadata": {
        "id": "IQ1Fx6xe-P0D"
      }
    },
    {
      "cell_type": "code",
      "source": [
        "#Step 3: Dataset Class (Brain Tumor Segmentation)\n",
        "from PIL import Image\n",
        "import os\n",
        "\n",
        "class BrainTumorDataset(torch.utils.data.Dataset):\n",
        "    def __init__(self, images_dir, masks_dir, transform=None):\n",
        "        self.images = sorted([os.path.join(images_dir, f) for f in os.listdir(images_dir)])\n",
        "        self.masks  = sorted([os.path.join(masks_dir, f) for f in os.listdir(masks_dir)])\n",
        "        self.transform = transform\n",
        "\n",
        "    def __len__(self):\n",
        "        return len(self.images)\n",
        "\n",
        "    def __getitem__(self, idx):\n",
        "        image = Image.open(self.images[idx]).convert(\"RGB\")\n",
        "        mask  = Image.open(self.masks[idx]).convert(\"L\")\n",
        "\n",
        "        if self.transform:\n",
        "            image = self.transform(image)\n",
        "            mask  = self.transform(mask)\n",
        "\n",
        "        return image, mask"
      ],
      "metadata": {
        "id": "1x7eNGKc9R0F"
      },
      "execution_count": null,
      "outputs": []
    },
    {
      "cell_type": "code",
      "source": [
        "#Step 4: Data Preparation\n",
        "transform = transforms.Compose([\n",
        "    # transforms.Resize((224,224)),\n",
        "    transforms.Resize((512,512)),\n",
        "    transforms.ToTensor()\n",
        "])"
      ],
      "metadata": {
        "id": "xqBq5MAy9VG2"
      },
      "execution_count": null,
      "outputs": []
    },
    {
      "cell_type": "markdown",
      "source": [
        "# Data loader"
      ],
      "metadata": {
        "id": "PHQXeSmq-a0p"
      }
    },
    {
      "cell_type": "code",
      "source": [
        "\n",
        "\n",
        "train_images = \"\"\n",
        "train_masks  = \"\"\n",
        "\n",
        "dataset = BrainTumorDataset(train_images, train_masks, transform=transform)\n",
        "\n",
        "train_size = int(0.8 * len(dataset))\n",
        "val_size = len(dataset) - train_size\n",
        "train_dataset, val_dataset = random_split(dataset, [train_size, val_size])\n",
        "\n",
        "train_loader = DataLoader(train_dataset, batch_size=4, shuffle=True)\n",
        "val_loader = DataLoader(val_dataset, batch_size=4, shuffle=False)\n",
        "\n",
        "print(f\"Train: {len(train_dataset)}, Val: {len(val_dataset)}\")\n"
      ],
      "metadata": {
        "id": "Vv99SK_t9hqI"
      },
      "execution_count": null,
      "outputs": []
    },
    {
      "cell_type": "markdown",
      "source": [
        "# Swin-Unet architecture"
      ],
      "metadata": {
        "id": "wq0Kq28n-jds"
      }
    },
    {
      "cell_type": "code",
      "source": [
        "#Step 5: Swin U-Net Model\n",
        "device = torch.device(\"cuda\" if torch.cuda.is_available() else \"cpu\")\n",
        "\n",
        "model = smp.Unet(\n",
        "    encoder_name=\"resnet34\", # Swin Transformer\n",
        "    encoder_weights=\"imagenet\",\n",
        "    in_channels=3,\n",
        "    classes=1\n",
        ").to(device)"
      ],
      "metadata": {
        "id": "FgyjHwnNvy0L"
      },
      "execution_count": null,
      "outputs": []
    },
    {
      "cell_type": "markdown",
      "source": [
        "# Loss and optimizer"
      ],
      "metadata": {
        "id": "OPurZYHo-pMN"
      }
    },
    {
      "cell_type": "code",
      "source": [
        "\n",
        "loss_fn = smp.losses.DiceLoss(mode='binary')\n",
        "optimizer = torch.optim.Adam(model.parameters(), lr=3e-4)"
      ],
      "metadata": {
        "id": "8snjQNg99ry-"
      },
      "execution_count": null,
      "outputs": []
    },
    {
      "cell_type": "markdown",
      "source": [
        "# Training loop"
      ],
      "metadata": {
        "id": "TwYLEZP6-sa-"
      }
    },
    {
      "cell_type": "code",
      "source": [
        "#Step 6: Training Loop\n",
        "num_epochs = 10\n",
        "best_val_loss = float('inf')\n",
        "\n",
        "for epoch in range(num_epochs):\n",
        "    model.train()\n",
        "    train_loss = 0\n",
        "    for images, masks in tqdm(train_loader):\n",
        "        images, masks = images.to(device), masks.to(device)\n",
        "        preds = model(images)\n",
        "        loss = loss_fn(preds, masks)\n",
        "\n",
        "        optimizer.zero_grad()\n",
        "        loss.backward()\n",
        "        optimizer.step()\n",
        "        train_loss += loss.item()\n",
        "\n",
        "    train_loss /= len(train_loader)\n",
        "\n",
        "    # Validation\n",
        "    model.eval()\n",
        "    val_loss = 0\n",
        "    with torch.no_grad():\n",
        "        for images, masks in val_loader:\n",
        "            images, masks = images.to(device), masks.to(device)\n",
        "            preds = model(images)\n",
        "            loss = loss_fn(preds, masks)\n",
        "            val_loss += loss.item()\n",
        "    val_loss /= len(val_loader)\n",
        "\n",
        "    print(f\"Epoch [{epoch+1}/{num_epochs}] Train Loss: {train_loss:.4f} | Val Loss: {val_loss:.4f}\")\n",
        "\n",
        "    # Save best model\n",
        "    if val_loss < best_val_loss:\n",
        "        best_val_loss = val_loss\n",
        "        torch.save(model.state_dict(), \"./best_swinunet.pth\")"
      ],
      "metadata": {
        "id": "WWSI7yux9t9_"
      },
      "execution_count": null,
      "outputs": []
    }
  ]
}